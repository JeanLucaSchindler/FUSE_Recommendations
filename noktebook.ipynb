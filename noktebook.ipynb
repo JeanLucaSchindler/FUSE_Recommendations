{
 "cells": [
  {
   "cell_type": "markdown",
   "metadata": {},
   "source": [
    "## Imports"
   ]
  },
  {
   "cell_type": "code",
   "execution_count": 34,
   "metadata": {},
   "outputs": [],
   "source": [
    "import numpy as np\n",
    "import re\n",
    "import pandas as pd\n",
    "from langdetect import detect, LangDetectException"
   ]
  },
  {
   "cell_type": "markdown",
   "metadata": {},
   "source": [
    "## Get Data"
   ]
  },
  {
   "cell_type": "code",
   "execution_count": 35,
   "metadata": {},
   "outputs": [],
   "source": [
    "\n",
    "with open('/home/jeanluca/code/JeanLucaSchindler/FUSE/raw_data/E1.5. 16062024.txt', 'r') as file:\n",
    "    content_5 = file.read()\n",
    "\n",
    "with open('/home/jeanluca/code/JeanLucaSchindler/FUSE/raw_data/E1.6. 16062024.txt', 'r') as file:\n",
    "    content_6 = file.read()\n",
    "\n",
    "with open('/home/jeanluca/code/JeanLucaSchindler/FUSE/raw_data/E1.7. 16062024.txt', 'r') as file:\n",
    "    content_7 = file.read()"
   ]
  },
  {
   "cell_type": "markdown",
   "metadata": {},
   "source": [
    "## Get df"
   ]
  },
  {
   "cell_type": "markdown",
   "metadata": {},
   "source": [
    "### content_5"
   ]
  },
  {
   "cell_type": "code",
   "execution_count": 36,
   "metadata": {},
   "outputs": [],
   "source": [
    "pattern_5 = r'(E1\\.5\\.\\S+)(.*?)(?=(E1\\.5\\.\\S+)|$)'\n",
    "\n",
    "matches_5 = re.findall(pattern_5, content_5, re.DOTALL)\n",
    "\n",
    "data = {match[0]: match[1].strip() for match in matches_5}\n",
    "\n",
    "df_5 = pd.DataFrame.from_dict(data, orient='index', columns=['text'])"
   ]
  },
  {
   "cell_type": "code",
   "execution_count": 37,
   "metadata": {},
   "outputs": [
    {
     "data": {
      "text/html": [
       "<div>\n",
       "<style scoped>\n",
       "    .dataframe tbody tr th:only-of-type {\n",
       "        vertical-align: middle;\n",
       "    }\n",
       "\n",
       "    .dataframe tbody tr th {\n",
       "        vertical-align: top;\n",
       "    }\n",
       "\n",
       "    .dataframe thead th {\n",
       "        text-align: right;\n",
       "    }\n",
       "</style>\n",
       "<table border=\"1\" class=\"dataframe\">\n",
       "  <thead>\n",
       "    <tr style=\"text-align: right;\">\n",
       "      <th></th>\n",
       "      <th>text</th>\n",
       "    </tr>\n",
       "  </thead>\n",
       "  <tbody>\n",
       "    <tr>\n",
       "      <th>E1.5.A.</th>\n",
       "      <td>HOW MUCH OF JOY DO WE CONTROL?\\nJoy and sadnes...</td>\n",
       "    </tr>\n",
       "    <tr>\n",
       "      <th>E1.5.A.1.</th>\n",
       "      <td>\"WYSIATI [What You See Is All There Is].\\nThe ...</td>\n",
       "    </tr>\n",
       "    <tr>\n",
       "      <th>E1.5.A.1.1.</th>\n",
       "      <td>THE FOCUSSING ILLUSION\\n\"Nothing in life is as...</td>\n",
       "    </tr>\n",
       "    <tr>\n",
       "      <th>E1.5.A.1.1_REF1_PSI</th>\n",
       "      <td>\"THE FOCUSSING ILLUSION. Any aspect of life to...</td>\n",
       "    </tr>\n",
       "    <tr>\n",
       "      <th>E1.5.A.1.1_REF2_PSI</th>\n",
       "      <td>\"MISWANTING\"\\n\"Daniel Gilbert and Timothy Wils...</td>\n",
       "    </tr>\n",
       "    <tr>\n",
       "      <th>...</th>\n",
       "      <td>...</td>\n",
       "    </tr>\n",
       "    <tr>\n",
       "      <th>E1.5.F.7_REF1_PH</th>\n",
       "      <td>\"Qu'y a-t-il hors du cadre ?\\n\\nPREMIÈRE APPRO...</td>\n",
       "    </tr>\n",
       "    <tr>\n",
       "      <th>E1.5.F.7_REF1.1_PH</th>\n",
       "      <td>\"LE DÉFAUT DU MONDE\\n\\nQuand il est parvenu à ...</td>\n",
       "    </tr>\n",
       "    <tr>\n",
       "      <th>E1.5.F.7_REF1.1.a_PH</th>\n",
       "      <td>\"LE SENS, LA DÉPRESSION, LA JOIE\\n\\nIl n'en de...</td>\n",
       "    </tr>\n",
       "    <tr>\n",
       "      <th>E1.5.F.7_REF2_PH</th>\n",
       "      <td>\"Anthropologie intérieure\\n\\nUN TERRAIN NOMMÉ ...</td>\n",
       "    </tr>\n",
       "    <tr>\n",
       "      <th>E1.5.F.7_REF2.1_PH</th>\n",
       "      <td>\"RÉVOLUTION DANS L'INTÉRIORITÉ\\n\\nDans le lieu...</td>\n",
       "    </tr>\n",
       "  </tbody>\n",
       "</table>\n",
       "<p>725 rows × 1 columns</p>\n",
       "</div>"
      ],
      "text/plain": [
       "                                                                   text\n",
       "E1.5.A.               HOW MUCH OF JOY DO WE CONTROL?\\nJoy and sadnes...\n",
       "E1.5.A.1.             \"WYSIATI [What You See Is All There Is].\\nThe ...\n",
       "E1.5.A.1.1.           THE FOCUSSING ILLUSION\\n\"Nothing in life is as...\n",
       "E1.5.A.1.1_REF1_PSI   \"THE FOCUSSING ILLUSION. Any aspect of life to...\n",
       "E1.5.A.1.1_REF2_PSI   \"MISWANTING\"\\n\"Daniel Gilbert and Timothy Wils...\n",
       "...                                                                 ...\n",
       "E1.5.F.7_REF1_PH      \"Qu'y a-t-il hors du cadre ?\\n\\nPREMIÈRE APPRO...\n",
       "E1.5.F.7_REF1.1_PH    \"LE DÉFAUT DU MONDE\\n\\nQuand il est parvenu à ...\n",
       "E1.5.F.7_REF1.1.a_PH  \"LE SENS, LA DÉPRESSION, LA JOIE\\n\\nIl n'en de...\n",
       "E1.5.F.7_REF2_PH      \"Anthropologie intérieure\\n\\nUN TERRAIN NOMMÉ ...\n",
       "E1.5.F.7_REF2.1_PH    \"RÉVOLUTION DANS L'INTÉRIORITÉ\\n\\nDans le lieu...\n",
       "\n",
       "[725 rows x 1 columns]"
      ]
     },
     "execution_count": 37,
     "metadata": {},
     "output_type": "execute_result"
    }
   ],
   "source": [
    "df_5"
   ]
  },
  {
   "cell_type": "markdown",
   "metadata": {},
   "source": [
    "### content_6"
   ]
  },
  {
   "cell_type": "code",
   "execution_count": 38,
   "metadata": {},
   "outputs": [],
   "source": [
    "pattern_6 = r'(E1\\.6\\.\\S+)(.*?)(?=(E1\\.6\\.\\S+)|$)'\n",
    "\n",
    "matches_6 = re.findall(pattern_6, content_6, re.DOTALL)\n",
    "\n",
    "data = {match[0]: match[1].strip() for match in matches_6}\n",
    "\n",
    "df_6 = pd.DataFrame.from_dict(data, orient='index', columns=['text'])"
   ]
  },
  {
   "cell_type": "code",
   "execution_count": 39,
   "metadata": {},
   "outputs": [
    {
     "data": {
      "text/html": [
       "<div>\n",
       "<style scoped>\n",
       "    .dataframe tbody tr th:only-of-type {\n",
       "        vertical-align: middle;\n",
       "    }\n",
       "\n",
       "    .dataframe tbody tr th {\n",
       "        vertical-align: top;\n",
       "    }\n",
       "\n",
       "    .dataframe thead th {\n",
       "        text-align: right;\n",
       "    }\n",
       "</style>\n",
       "<table border=\"1\" class=\"dataframe\">\n",
       "  <thead>\n",
       "    <tr style=\"text-align: right;\">\n",
       "      <th></th>\n",
       "      <th>text</th>\n",
       "    </tr>\n",
       "  </thead>\n",
       "  <tbody>\n",
       "    <tr>\n",
       "      <th>E1.6.A.</th>\n",
       "      <td>LOVE AND FRIENDSHIP\\nJoy in love comes from sh...</td>\n",
       "    </tr>\n",
       "    <tr>\n",
       "      <th>E1.6.A.1</th>\n",
       "      <td>DOES LOVE MAKE US HAPPY?</td>\n",
       "    </tr>\n",
       "    <tr>\n",
       "      <th>E1.6.A.1.1.</th>\n",
       "      <td>TRUE LOVE RESONATES IN THE WORLD\\nWe marvel at...</td>\n",
       "    </tr>\n",
       "    <tr>\n",
       "      <th>E1.6.A.1.1.a.</th>\n",
       "      <td>ECHOES OF HUMANITY: CELEBRATING LOVE, CONNECTI...</td>\n",
       "    </tr>\n",
       "    <tr>\n",
       "      <th>E1.6.A.1.1.a_REF1_PO</th>\n",
       "      <td>\"Pourtant il nous reste à célébrer \\ncomme tu ...</td>\n",
       "    </tr>\n",
       "    <tr>\n",
       "      <th>...</th>\n",
       "      <td>...</td>\n",
       "    </tr>\n",
       "    <tr>\n",
       "      <th>E1.6.G.2.14_REF6_PO</th>\n",
       "      <td>Erotic dreams remind us of the ecstasy of sex,...</td>\n",
       "    </tr>\n",
       "    <tr>\n",
       "      <th>E1.6.G.2.14_REF6.1_PO</th>\n",
       "      <td>\"SALOMÉ\\n\\nInsónia rôxa. A luz a virgular-se e...</td>\n",
       "    </tr>\n",
       "    <tr>\n",
       "      <th>E1.6.G.2.14_REF6.2_PO</th>\n",
       "      <td>\"CERTA VOZ NA NOITE, RUIVAMENTE...\\n\\nEsquivo ...</td>\n",
       "    </tr>\n",
       "    <tr>\n",
       "      <th>E1.6.G.2.15.</th>\n",
       "      <td>SPIRITUAL PRACTICE CAN HELP BREAK THE CIRCLE O...</td>\n",
       "    </tr>\n",
       "    <tr>\n",
       "      <th>E1.6.G.2.15_REF1_PH</th>\n",
       "      <td>\"LE CERCLE DE L'ADDICTION\\n[...]\\n\\nUne addict...</td>\n",
       "    </tr>\n",
       "  </tbody>\n",
       "</table>\n",
       "<p>1236 rows × 1 columns</p>\n",
       "</div>"
      ],
      "text/plain": [
       "                                                                    text\n",
       "E1.6.A.                LOVE AND FRIENDSHIP\\nJoy in love comes from sh...\n",
       "E1.6.A.1                                        DOES LOVE MAKE US HAPPY?\n",
       "E1.6.A.1.1.            TRUE LOVE RESONATES IN THE WORLD\\nWe marvel at...\n",
       "E1.6.A.1.1.a.          ECHOES OF HUMANITY: CELEBRATING LOVE, CONNECTI...\n",
       "E1.6.A.1.1.a_REF1_PO   \"Pourtant il nous reste à célébrer \\ncomme tu ...\n",
       "...                                                                  ...\n",
       "E1.6.G.2.14_REF6_PO    Erotic dreams remind us of the ecstasy of sex,...\n",
       "E1.6.G.2.14_REF6.1_PO  \"SALOMÉ\\n\\nInsónia rôxa. A luz a virgular-se e...\n",
       "E1.6.G.2.14_REF6.2_PO  \"CERTA VOZ NA NOITE, RUIVAMENTE...\\n\\nEsquivo ...\n",
       "E1.6.G.2.15.           SPIRITUAL PRACTICE CAN HELP BREAK THE CIRCLE O...\n",
       "E1.6.G.2.15_REF1_PH    \"LE CERCLE DE L'ADDICTION\\n[...]\\n\\nUne addict...\n",
       "\n",
       "[1236 rows x 1 columns]"
      ]
     },
     "execution_count": 39,
     "metadata": {},
     "output_type": "execute_result"
    }
   ],
   "source": [
    "df_6"
   ]
  },
  {
   "cell_type": "markdown",
   "metadata": {},
   "source": [
    "### content_7"
   ]
  },
  {
   "cell_type": "code",
   "execution_count": 40,
   "metadata": {},
   "outputs": [],
   "source": [
    "pattern_7 = r'(E1\\.7\\.\\S+)(.*?)(?=(E1\\.7\\.\\S+)|$)'\n",
    "\n",
    "matches_7 = re.findall(pattern_7, content_7, re.DOTALL)\n",
    "\n",
    "data = {match[0]: match[1].strip() for match in matches_7}\n",
    "\n",
    "df_7 = pd.DataFrame.from_dict(data, orient='index', columns=['text'])"
   ]
  },
  {
   "cell_type": "code",
   "execution_count": 41,
   "metadata": {},
   "outputs": [
    {
     "data": {
      "text/html": [
       "<div>\n",
       "<style scoped>\n",
       "    .dataframe tbody tr th:only-of-type {\n",
       "        vertical-align: middle;\n",
       "    }\n",
       "\n",
       "    .dataframe tbody tr th {\n",
       "        vertical-align: top;\n",
       "    }\n",
       "\n",
       "    .dataframe thead th {\n",
       "        text-align: right;\n",
       "    }\n",
       "</style>\n",
       "<table border=\"1\" class=\"dataframe\">\n",
       "  <thead>\n",
       "    <tr style=\"text-align: right;\">\n",
       "      <th></th>\n",
       "      <th>text</th>\n",
       "    </tr>\n",
       "  </thead>\n",
       "  <tbody>\n",
       "    <tr>\n",
       "      <th>E1.7.A.</th>\n",
       "      <td>SPIRITUAL PRACTICES AIM TO ELIMINATE SUFFERING...</td>\n",
       "    </tr>\n",
       "    <tr>\n",
       "      <th>E1.7.A.1.</th>\n",
       "      <td>THE EXPERIENCE OF ETERNITY CAN ONLY TAKE PLACE...</td>\n",
       "    </tr>\n",
       "    <tr>\n",
       "      <th>E1.7.A.1.1.</th>\n",
       "      <td>THE EXPERIENCE OF THE ETERNAL NEITHER GIVES RI...</td>\n",
       "    </tr>\n",
       "    <tr>\n",
       "      <th>E1.7.A.1.1_REF1_PH.</th>\n",
       "      <td>\"Il importe assez peu, dans le présent context...</td>\n",
       "    </tr>\n",
       "    <tr>\n",
       "      <th>E1.7.A.1.1_REF2_PO.</th>\n",
       "      <td>\"Les mots qui vont surgir savent de nous ce qu...</td>\n",
       "    </tr>\n",
       "    <tr>\n",
       "      <th>...</th>\n",
       "      <td>...</td>\n",
       "    </tr>\n",
       "    <tr>\n",
       "      <th>E1.7.D.6.38.</th>\n",
       "      <td>ELLA FRANCES SANDERS\\n\"A sense of wonder can f...</td>\n",
       "    </tr>\n",
       "    <tr>\n",
       "      <th>E1.7.D.6.38_REF1_LIT</th>\n",
       "      <td>\"A sense of wonder can find you in many forms,...</td>\n",
       "    </tr>\n",
       "    <tr>\n",
       "      <th>E1.7.D.6.39.</th>\n",
       "      <td>JOHN KOENIG\\nUncommonly lovely invented words ...</td>\n",
       "    </tr>\n",
       "    <tr>\n",
       "      <th>E1.7.D.6.39._REF1_LIT</th>\n",
       "      <td>“In language, all things are possible. Which m...</td>\n",
       "    </tr>\n",
       "    <tr>\n",
       "      <th>E1.7.A.2_REF5.b_LIT.wE1.7.D.6.39.</th>\n",
       "      <td>“There are words that anchor us in both the sm...</td>\n",
       "    </tr>\n",
       "  </tbody>\n",
       "</table>\n",
       "<p>845 rows × 1 columns</p>\n",
       "</div>"
      ],
      "text/plain": [
       "                                                                                text\n",
       "E1.7.A.                            SPIRITUAL PRACTICES AIM TO ELIMINATE SUFFERING...\n",
       "E1.7.A.1.                          THE EXPERIENCE OF ETERNITY CAN ONLY TAKE PLACE...\n",
       "E1.7.A.1.1.                        THE EXPERIENCE OF THE ETERNAL NEITHER GIVES RI...\n",
       "E1.7.A.1.1_REF1_PH.                \"Il importe assez peu, dans le présent context...\n",
       "E1.7.A.1.1_REF2_PO.                \"Les mots qui vont surgir savent de nous ce qu...\n",
       "...                                                                              ...\n",
       "E1.7.D.6.38.                       ELLA FRANCES SANDERS\\n\"A sense of wonder can f...\n",
       "E1.7.D.6.38_REF1_LIT               \"A sense of wonder can find you in many forms,...\n",
       "E1.7.D.6.39.                       JOHN KOENIG\\nUncommonly lovely invented words ...\n",
       "E1.7.D.6.39._REF1_LIT              “In language, all things are possible. Which m...\n",
       "E1.7.A.2_REF5.b_LIT.wE1.7.D.6.39.  “There are words that anchor us in both the sm...\n",
       "\n",
       "[845 rows x 1 columns]"
      ]
     },
     "execution_count": 41,
     "metadata": {},
     "output_type": "execute_result"
    }
   ],
   "source": [
    "df_7"
   ]
  },
  {
   "cell_type": "markdown",
   "metadata": {},
   "source": [
    "### Final raw_df"
   ]
  },
  {
   "cell_type": "code",
   "execution_count": 42,
   "metadata": {},
   "outputs": [],
   "source": [
    "total_df = pd.concat([df_5, df_6, df_7], ignore_index=False)"
   ]
  },
  {
   "cell_type": "code",
   "execution_count": 43,
   "metadata": {},
   "outputs": [],
   "source": [
    "filtered_df = total_df[total_df.index.str.contains('REF') | (total_df['text'].str.split().str.len() >= 200)]"
   ]
  },
  {
   "cell_type": "code",
   "execution_count": 44,
   "metadata": {},
   "outputs": [
    {
     "name": "stderr",
     "output_type": "stream",
     "text": [
      "/tmp/ipykernel_48180/2241906798.py:5: SettingWithCopyWarning: \n",
      "A value is trying to be set on a copy of a slice from a DataFrame.\n",
      "Try using .loc[row_indexer,col_indexer] = value instead\n",
      "\n",
      "See the caveats in the documentation: https://pandas.pydata.org/pandas-docs/stable/user_guide/indexing.html#returning-a-view-versus-a-copy\n",
      "  filtered_df['text'] = filtered_df['text'].apply(remove_newlines)\n"
     ]
    }
   ],
   "source": [
    "def remove_newlines(text):\n",
    "    return text.replace('\\n', ' ')\n",
    "\n",
    "# Apply the function to the 'text' column\n",
    "filtered_df['text'] = filtered_df['text'].apply(remove_newlines)"
   ]
  },
  {
   "cell_type": "code",
   "execution_count": 45,
   "metadata": {},
   "outputs": [
    {
     "name": "stdout",
     "output_type": "stream",
     "text": [
      "E1.6.D.1.4.a.ii.\n"
     ]
    },
    {
     "data": {
      "text/plain": [
       "'ENJOY THE FRUITS OF THE EARTH AND FEEL WONDERFULLY EXISTING IN THE FLESH \"Descartes does not hesitate to conjecture that the first passion experienced by the soul when it insinuated itself into the fetal body was that of joy: « From the first moment that our soul was joined to the body, it is likely that it felt joy, and incontinently afterwards love... » (to Chanut, 1-2-47). [...] For this is how men live, not for the labors of understanding alone, but to enjoy the fruits of the earth and feel wonderfully existing in the flesh, which is the soul\\'s true earthly residence, and from which it would be vain - Descartes is very close to Montaigne here - to try to escape, as some mystics illusorily attempt to. [...] « The mind must be entirely freed from all kinds of sad thoughts, and even from all kinds of serious meditations on the sciences, and occupied only with imitating those who, looking at the greenness of a wood, the colors of a flower, the flight of a bird, and such things that require no attention, persuade themselves that they are thinking of nothing. Which is not to waste time, but to use it well ».'"
      ]
     },
     "execution_count": 45,
     "metadata": {},
     "output_type": "execute_result"
    }
   ],
   "source": [
    "print(filtered_df.text.index[1000])\n",
    "filtered_df.text.iloc[1000]"
   ]
  },
  {
   "cell_type": "code",
   "execution_count": 46,
   "metadata": {},
   "outputs": [
    {
     "name": "stderr",
     "output_type": "stream",
     "text": [
      "/tmp/ipykernel_48180/1645582034.py:8: SettingWithCopyWarning: \n",
      "A value is trying to be set on a copy of a slice from a DataFrame.\n",
      "Try using .loc[row_indexer,col_indexer] = value instead\n",
      "\n",
      "See the caveats in the documentation: https://pandas.pydata.org/pandas-docs/stable/user_guide/indexing.html#returning-a-view-versus-a-copy\n",
      "  filtered_df['language'] = filtered_df['text'].apply(detect_language)\n"
     ]
    }
   ],
   "source": [
    "def detect_language(text):\n",
    "    try:\n",
    "        return detect(text)\n",
    "    except LangDetectException:\n",
    "        return 'unknown'\n",
    "\n",
    "\n",
    "filtered_df['language'] = filtered_df['text'].apply(detect_language)"
   ]
  },
  {
   "cell_type": "code",
   "execution_count": 47,
   "metadata": {},
   "outputs": [
    {
     "data": {
      "text/html": [
       "<div>\n",
       "<style scoped>\n",
       "    .dataframe tbody tr th:only-of-type {\n",
       "        vertical-align: middle;\n",
       "    }\n",
       "\n",
       "    .dataframe tbody tr th {\n",
       "        vertical-align: top;\n",
       "    }\n",
       "\n",
       "    .dataframe thead th {\n",
       "        text-align: right;\n",
       "    }\n",
       "</style>\n",
       "<table border=\"1\" class=\"dataframe\">\n",
       "  <thead>\n",
       "    <tr style=\"text-align: right;\">\n",
       "      <th></th>\n",
       "      <th>text</th>\n",
       "      <th>language</th>\n",
       "    </tr>\n",
       "    <tr>\n",
       "      <th>index</th>\n",
       "      <th></th>\n",
       "      <th></th>\n",
       "    </tr>\n",
       "  </thead>\n",
       "  <tbody>\n",
       "    <tr>\n",
       "      <th>E1.5.A.1.1_REF1_PSI</th>\n",
       "      <td>\"THE FOCUSSING ILLUSION. Any aspect of life to...</td>\n",
       "      <td>en</td>\n",
       "    </tr>\n",
       "    <tr>\n",
       "      <th>E1.5.A.1.1_REF2_PSI</th>\n",
       "      <td>\"MISWANTING\" \"Daniel Gilbert and Timothy Wilso...</td>\n",
       "      <td>en</td>\n",
       "    </tr>\n",
       "    <tr>\n",
       "      <th>E1.5.A.1.1_REF2.1_PH</th>\n",
       "      <td>Non-philosophers are unable to choose the good...</td>\n",
       "      <td>en</td>\n",
       "    </tr>\n",
       "    <tr>\n",
       "      <th>E1.5.A.1.1_REF2.1.a_PH</th>\n",
       "      <td>\"In Plato's myth of Er the Pamphylian, the bas...</td>\n",
       "      <td>en</td>\n",
       "    </tr>\n",
       "    <tr>\n",
       "      <th>E1.5.A.1.1_REF2.1.b_SONG</th>\n",
       "      <td>Musical Illustration:  Jacques Higelin, Tombé ...</td>\n",
       "      <td>en</td>\n",
       "    </tr>\n",
       "    <tr>\n",
       "      <th>...</th>\n",
       "      <td>...</td>\n",
       "      <td>...</td>\n",
       "    </tr>\n",
       "    <tr>\n",
       "      <th>E1.7.D.6.36_REF1_PO</th>\n",
       "      <td>\"BUT WE HAD MUSIC  Right this minute across ti...</td>\n",
       "      <td>en</td>\n",
       "    </tr>\n",
       "    <tr>\n",
       "      <th>E1.7.D.6.37_REF1_SCI</th>\n",
       "      <td>\"Scientists theorize that the “soft fascinatio...</td>\n",
       "      <td>en</td>\n",
       "    </tr>\n",
       "    <tr>\n",
       "      <th>E1.7.D.6.38_REF1_LIT</th>\n",
       "      <td>\"A sense of wonder can find you in many forms,...</td>\n",
       "      <td>en</td>\n",
       "    </tr>\n",
       "    <tr>\n",
       "      <th>E1.7.D.6.39._REF1_LIT</th>\n",
       "      <td>“In language, all things are possible. Which m...</td>\n",
       "      <td>en</td>\n",
       "    </tr>\n",
       "    <tr>\n",
       "      <th>E1.7.A.2_REF5.b_LIT.wE1.7.D.6.39.</th>\n",
       "      <td>“There are words that anchor us in both the sm...</td>\n",
       "      <td>en</td>\n",
       "    </tr>\n",
       "  </tbody>\n",
       "</table>\n",
       "<p>1909 rows × 2 columns</p>\n",
       "</div>"
      ],
      "text/plain": [
       "                                                                                text  \\\n",
       "index                                                                                  \n",
       "E1.5.A.1.1_REF1_PSI                \"THE FOCUSSING ILLUSION. Any aspect of life to...   \n",
       "E1.5.A.1.1_REF2_PSI                \"MISWANTING\" \"Daniel Gilbert and Timothy Wilso...   \n",
       "E1.5.A.1.1_REF2.1_PH               Non-philosophers are unable to choose the good...   \n",
       "E1.5.A.1.1_REF2.1.a_PH             \"In Plato's myth of Er the Pamphylian, the bas...   \n",
       "E1.5.A.1.1_REF2.1.b_SONG           Musical Illustration:  Jacques Higelin, Tombé ...   \n",
       "...                                                                              ...   \n",
       "E1.7.D.6.36_REF1_PO                \"BUT WE HAD MUSIC  Right this minute across ti...   \n",
       "E1.7.D.6.37_REF1_SCI               \"Scientists theorize that the “soft fascinatio...   \n",
       "E1.7.D.6.38_REF1_LIT               \"A sense of wonder can find you in many forms,...   \n",
       "E1.7.D.6.39._REF1_LIT              “In language, all things are possible. Which m...   \n",
       "E1.7.A.2_REF5.b_LIT.wE1.7.D.6.39.  “There are words that anchor us in both the sm...   \n",
       "\n",
       "                                  language  \n",
       "index                                       \n",
       "E1.5.A.1.1_REF1_PSI                     en  \n",
       "E1.5.A.1.1_REF2_PSI                     en  \n",
       "E1.5.A.1.1_REF2.1_PH                    en  \n",
       "E1.5.A.1.1_REF2.1.a_PH                  en  \n",
       "E1.5.A.1.1_REF2.1.b_SONG                en  \n",
       "...                                    ...  \n",
       "E1.7.D.6.36_REF1_PO                     en  \n",
       "E1.7.D.6.37_REF1_SCI                    en  \n",
       "E1.7.D.6.38_REF1_LIT                    en  \n",
       "E1.7.D.6.39._REF1_LIT                   en  \n",
       "E1.7.A.2_REF5.b_LIT.wE1.7.D.6.39.       en  \n",
       "\n",
       "[1909 rows x 2 columns]"
      ]
     },
     "execution_count": 47,
     "metadata": {},
     "output_type": "execute_result"
    }
   ],
   "source": [
    "filtered_df = filtered_df.rename_axis('index')\n",
    "filtered_df"
   ]
  },
  {
   "cell_type": "code",
   "execution_count": 48,
   "metadata": {},
   "outputs": [
    {
     "data": {
      "image/png": "[encoded data removed]",
      "text/plain": [
       "<Figure size 640x480 with 1 Axes>"
      ]
     },
     "metadata": {},
     "output_type": "display_data"
    }
   ],
   "source": [
    "import matplotlib.pyplot as plt\n",
    "\n",
    "plt.hist(filtered_df.language);"
   ]
  },
  {
   "cell_type": "markdown",
   "metadata": {},
   "source": [
    "## Get different languages df"
   ]
  },
  {
   "cell_type": "code",
   "execution_count": 49,
   "metadata": {},
   "outputs": [],
   "source": [
    "french_df = filtered_df[filtered_df.language == 'fr']\n",
    "portuguese_df = filtered_df[filtered_df.language == 'pt']\n",
    "french_df = french_df.drop(['language'], axis=1)\n",
    "portuguese_df = portuguese_df.drop(['language'], axis=1)"
   ]
  },
  {
   "cell_type": "code",
   "execution_count": 50,
   "metadata": {},
   "outputs": [],
   "source": [
    "# french_df.to_csv('french_texts.txt',encoding='utf-8',sep=' ', index=True)\n",
    "# portuguese_df.to_csv('portuguese_texts.txt',encoding='utf-8',sep=' ', index=True)"
   ]
  }
 ],
 "metadata": {
  "kernelspec": {
   "display_name": "lewagon",
   "language": "python",
   "name": "python3"
  },
  "language_info": {
   "codemirror_mode": {
    "name": "ipython",
    "version": 3
   },
   "file_extension": ".py",
   "mimetype": "text/x-python",
   "name": "python",
   "nbconvert_exporter": "python",
   "pygments_lexer": "ipython3",
   "version": "3.10.6"
  }
 },
 "nbformat": 4,
 "nbformat_minor": 2
}
